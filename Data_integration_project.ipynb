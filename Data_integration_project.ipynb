{
  "nbformat": 4,
  "nbformat_minor": 0,
  "metadata": {
    "colab": {
      "provenance": []
    },
    "kernelspec": {
      "name": "python3",
      "display_name": "Python 3"
    },
    "language_info": {
      "name": "python"
    }
  },
  "cells": [
    {
      "cell_type": "code",
      "source": [
        "# -*- coding: utf-8 -*-\n",
        "# 📦 Импорт необходимых библиотек\n",
        "import pandas as pd\n",
        "import numpy as np\n",
        "from google.colab import drive\n",
        "\n",
        "# 🔗 Монтируем Google Drive для доступа к файлам\n",
        "drive.mount('/content/drive')\n",
        "\n",
        "# 📁 Указываем путь к папке с данными на Google Диске\n",
        "base_path = '/content/drive/MyDrive/Colab Notebooks/DataSet/'\n",
        "\n",
        "# 📄 Загружаем исходные CSV-файлы\n",
        "diaries_df    = pd.read_csv(base_path + 'Self-control diary.csv')  # Дневник самоконтроля\n",
        "rpe_field_df  = pd.read_csv(base_path + 'RPE FIELD.csv')           # RPE после поля\n",
        "rpe_gym_df    = pd.read_csv(base_path + 'RPE GYM.csv')             # RPE после зала\n",
        "gps_2025_df   = pd.read_csv(base_path + 'GPS2025.csv')             # GPS данные за 2025\n",
        "gps_2024_df   = pd.read_csv(base_path + 'GPS2024.csv')             # GPS данные за 2024"
      ],
      "metadata": {
        "collapsed": true,
        "id": "bxYOIcHV5-3c"
      },
      "execution_count": null,
      "outputs": []
    },
    {
      "cell_type": "code",
      "source": [
        "# 🧮 Преобразуем значения в столбце \"TOTAL distance (km)\" в числовой формат\n",
        "for gps_df in [gps_2024_df, gps_2025_df]:\n",
        "    gps_df['TOTAL distance (km)'] = (\n",
        "        gps_df['TOTAL distance (km)']\n",
        "        .astype(str)                          # 🔤 Преобразуем в строку (если тип смешанный)\n",
        "        .str.replace(',', '.', regex=False)   # 🔁 Меняем запятую на точку (европейский формат)\n",
        "        .astype(float)                         # ➡️ Преобразуем в float\n",
        "    )"
      ],
      "metadata": {
        "id": "D0-7lxKWOBEG"
      },
      "execution_count": 32,
      "outputs": []
    },
    {
      "cell_type": "code",
      "source": [
        "# 📆 Универсальная функция для очистки и стандартизации столбца с датой\n",
        "def clean_date_column(df, col='Дата'):\n",
        "    # 🔤 Преобразуем значения в строку и убираем лишние пробелы\n",
        "    df[col] = df[col].astype(str).str.strip()\n",
        "\n",
        "    # 🔁 Заменяем точки на слэши (если формат dd.mm.yyyy)\n",
        "    df[col] = df[col].str.replace('.', '/', regex=False)\n",
        "\n",
        "    # ✂️ Убираем время (если дата содержит часы/минуты)\n",
        "    df[col] = df[col].str.split().str[0]\n",
        "\n",
        "    # 📅 Преобразуем в формат datetime (сначала день, потом месяц)\n",
        "    df[col] = pd.to_datetime(df[col], dayfirst=True, errors='coerce')\n",
        "\n",
        "    return df"
      ],
      "metadata": {
        "id": "QV4O0tLjJTcf"
      },
      "execution_count": 33,
      "outputs": []
    },
    {
      "cell_type": "code",
      "source": [
        "# 🚿 Применяем функцию очистки даты ко всем датафреймам\n",
        "for df in [diaries_df, rpe_gym_df, rpe_field_df, gps_2024_df, gps_2025_df]:\n",
        "    clean_date_column(df)"
      ],
      "metadata": {
        "collapsed": true,
        "id": "pmvK3PlqJXKy"
      },
      "execution_count": 34,
      "outputs": []
    },
    {
      "cell_type": "code",
      "source": [
        "# 🔎 Проверяем, сколько строк осталось без корректной даты после преобразования\n",
        "print(\"\\n📊 Пропущенные даты после преобразования:\")\n",
        "\n",
        "for name, df in zip(\n",
        "    ['diaries_df', 'rpe_gym_df', 'rpe_field_df', 'gps_2024_df', 'gps_2025_df'],\n",
        "    [diaries_df, rpe_gym_df, rpe_field_df, gps_2024_df, gps_2025_df]\n",
        "):\n",
        "    missing_count = df['Дата'].isna().sum()\n",
        "    print(f\"• {name}: {missing_count} строк без корректной даты\")"
      ],
      "metadata": {
        "collapsed": true,
        "id": "_--AjMuHJZZo"
      },
      "execution_count": null,
      "outputs": []
    },
    {
      "cell_type": "code",
      "source": [
        "# 🧹 Удаляем строки, где не удалось преобразовать дату (т.е. Дата = NaT)\n",
        "for df in [diaries_df, rpe_gym_df, rpe_field_df, gps_2024_df, gps_2025_df]:\n",
        "    df.dropna(subset=['Дата'], inplace=True)"
      ],
      "metadata": {
        "id": "WhfESd4mMFJ1"
      },
      "execution_count": 36,
      "outputs": []
    },
    {
      "cell_type": "code",
      "source": [
        "# 🔗 Объединяем GPS-данные за 2024 и 2025 годы в один датафрейм\n",
        "gps_all = pd.concat([gps_2024_df, gps_2025_df], ignore_index=True)\n",
        "\n",
        "# 🏷️ Переименовываем колонки с оценкой нагрузки (RPE), чтобы различать зал и поле\n",
        "rpe_gym_df   = rpe_gym_df.rename(columns={'RPE': 'RPE_GYM'})\n",
        "rpe_field_df = rpe_field_df.rename(columns={'RPE': 'RPE_FIELD'})\n",
        "\n",
        "# 🔄 Объединяем все таблицы по ключам \"Дата\" и \"Имя\"\n",
        "merged = diaries_df \\\n",
        "    .merge(rpe_gym_df,   on=['Дата', 'Имя'], how='left') \\\n",
        "    .merge(rpe_field_df, on=['Дата', 'Имя'], how='left') \\\n",
        "    .merge(gps_all,      on=['Дата', 'Имя'], how='left')\n",
        "\n",
        "# 💾 Сохраняем финальный объединённый датафрейм в Google Drive\n",
        "merged.to_csv(base_path + 'merged_dataset.csv', index=False, encoding='utf-8-sig')\n",
        "print(\"✅ Готово! Файл сохранён как 'merged_dataset.csv'\")\n",
        "\n",
        "# 👀 Просматриваем первые строки и размер таблицы\n",
        "print(f\"📐 Размер итогового датафрейма: {merged.shape}\")\n",
        "display(merged.head())"
      ],
      "metadata": {
        "collapsed": true,
        "id": "aGkiUf01JbT3"
      },
      "execution_count": null,
      "outputs": []
    }
  ]
}